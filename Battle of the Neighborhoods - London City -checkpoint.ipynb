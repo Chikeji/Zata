{
 "cells": [
  {
   "cell_type": "markdown",
   "metadata": {},
   "source": [
    "# CAPSTONE DATA SCIENCE PROJECT \n",
    "# Battle of the Neighborhoods - Week 1 "
   ]
  },
  {
   "cell_type": "markdown",
   "metadata": {
    "collapsed": true
   },
   "source": [
    "# 1. Project Description \n",
    "\n",
    " \n",
    "## Introduction  \n",
    "\n",
    "The Project is is a partial fulfillment of the Coursera IBM Data Science certification course. The project requirements are to leverage the “Foursquare location data to explore or compare neighborhoods or cities of your choice or to come up with a problem that you can use the Foursquare location data to solve.” My initial intention was to carry out a project on my city, Lusaka, Zambia. But I soon realized the data challenges I would face with a choice of Lusaka. Even the Foursquare API may have a limited applicability because the app may not be widely used in my city.  \n",
    "\n",
    "I settled for the City of London because of some familiarity with the City and just the sheer  beauty of the City. In addition, the internet will have loads of data sources for one to carry out a rich Data Sciennce Project. The approach taken in this project may be summarised as follows:\n",
    "    * Retrieve a list of neighborhoods in London, \n",
    "    * Find the longitude and latitudes of the neighborhoods, \n",
    "    * Use the coordinates identified above as input in the Foursquare API, \n",
    "    * Use the Foursquare API to venue categories in each neighborhood \n",
    "    * Identify any other data such as crime reports, demographic reports and social economic report in the city of London \n",
    "\n",
    "An analysis of the data will be done, identifying suitable areas where an African restaurant may be established. ZLT will find the information in this report helpful in identifying best location for a restaurant. This information provided will of course used in conjunction with other information such as financial and economic information. \n",
    "\n",
    "## The case of an African Restaurant in London \n",
    "\n",
    "The management of ZLT Limited, believe there is room for a high-end African restaurant in London. The target market is not necessarily just African immigrants, although this is their main target market, but they believe there is a good number of none Africans who may find African cuisine exotic and an experience to have. A number of factors have convinced them that an African restaurant would be a viable business proposition. \n",
    "\n",
    "    * The population of London is changing rapidly, \n",
    "    * London has been a preferred destination for many foreigners, mostly seeking employment. \n",
    "    * Population projections are that London’s population will continue to grow quickly well into the middle of the century. \n",
    "    * There is a redistribution of population in London – shifting from one area to another. \n",
    "    \n",
    "    \n",
    "## Problem Identification \n",
    "\n",
    "We have been commissioned by ZLT Limited, a private consortium of companies, to recommend the best locations to establish an African Restaurant in the city of London. The management of ZLT has highlighted the following as the key success factors for establishing a restaurant: \n",
    "\n",
    "    * The Location of a restaurant must be in a popular place, \n",
    "    * The identified location must not be close to other African restaurants, \n",
    "    * The location must be near or close to African communities, \n",
    "    * The location must be in the most secure areas, \n",
    "    * The Location must be family friendly, \n",
    "    * Easy access to the location by public and private transport. \n",
    "\n",
    "The management of ZLT feel that while they appreciate London’s population growth, they do not understand enough to confidently help them establish a restaurant in the city.  For example, they are asking themselves the following questions: \n",
    "\n",
    "    * But how much do we know about the changing face of the city?  \n",
    "    * Where do new Londoners come from, and where do Londoners who leave the city go to?  \n",
    "    * Which areas are seeing the biggest influx? \n"
   ]
  },
  {
   "cell_type": "markdown",
   "metadata": {},
   "source": [
    "## About Greater London\n",
    "\n",
    "This project is on the Greater London as opposed to City of London. To give us some understanding of the Greater London, I have copy pasted the following introduction on Greater London from Wikipedia. Please note that the City of London is part of the Greater London. My mandate is to find suitable locations in London rather than just the City of London.  \n",
    "\n",
    "“Greater London is a ceremonial county of England that is located within the London region. This region forms the administrative boundaries of London and is organised into 33 local government districts—the 32 London boroughs and the City of London, which is located within the region but is separate from the county. The Greater London Authority, based in Southwark, is responsible for strategic local government across the region and consists of the Mayor of London and the London Assembly. The City of London Corporation is the principal local authority for the City of London, with a similar role to that of the 32 London borough councils. \n",
    "\n",
    "Administratively, Greater London was first established as a sui generis council area under the Greater London Council between 1963 and 1986. The county of Greater London was created on 1 April 1965 through the London Government Act 1963. The area was re-established as a region in 1994. The Greater London Authority was formed in 2000.[3][4][5] \n",
    "\n",
    "The region covers 1,572 km2 (607 sq mi) and had a population of 8,174,000 at the 2011 census.[6][7][8][9] The Greater London Built-up Area is used in some national statistics and is a measure of the continuous urban area and includes areas outside the administrative region.” https://en.wikipedia.org/wiki/Greater_London "
   ]
  },
  {
   "cell_type": "markdown",
   "metadata": {},
   "source": [
    "#  2. Data Description \n",
    "\n",
    "In this section, I describe the data that will be used in the project. The discussed data sources are not conclusive as during the course of the analysis some more data may be required. The list below, therefore only serves to give a rough estimate of the sources of data needed for this project. \n",
    "\n",
    "### Data Source 1 – Neighborhood Data \n",
    "\n",
    "The Greater London, which is the subject of this study rather than just the City of London, has 33 boroughs. We first need to obtain a list of all the locations or neighborhoods in London with their respective boroughs and post codes. This information is available on the following web address:  https://en.wikipedia.org/wiki/List_of_areas_of_London. \n",
    "\n",
    "### Data Source 2 – Sub-Region \n",
    "\n",
    "It is important that we cluster the neighborhood into sub-regions. London is divided into five regions: Central, East, West, South and North. Each sub-region may have different characteristics that may give us further information for our analysis. The information is readily available on the following link: \n",
    "\n",
    "https://en.wikipedia.org/wiki/List_of_sub-regions_used_in_the_London_Plan. \n",
    "\n",
    "### Data Source 3 – Geographical Coordinates  \n",
    "\n",
    "Geographical coordinates for each neighborhood will be obtained with the aid of GEOPY Library. Each postal code will be assigned a latitude and longitude coordinate.  \n",
    "\n",
    "### Data Source 4 – Venue categories \n",
    "\n",
    "We will use the Foursquare API to retrieve venues, using the coordinates obtained in Data Source 3 above. We shall further obtain a list using Foursquare API for African Cuisine restaurants in London. "
   ]
  },
  {
   "cell_type": "code",
   "execution_count": null,
   "metadata": {
    "collapsed": true
   },
   "outputs": [],
   "source": []
  }
 ],
 "metadata": {
  "anaconda-cloud": {},
  "kernelspec": {
   "display_name": "Python [conda root]",
   "language": "python",
   "name": "conda-root-py"
  },
  "language_info": {
   "codemirror_mode": {
    "name": "ipython",
    "version": 3
   },
   "file_extension": ".py",
   "mimetype": "text/x-python",
   "name": "python",
   "nbconvert_exporter": "python",
   "pygments_lexer": "ipython3",
   "version": "3.5.6"
  }
 },
 "nbformat": 4,
 "nbformat_minor": 1
}
